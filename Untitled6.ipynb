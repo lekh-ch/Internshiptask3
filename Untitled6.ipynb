{
  "nbformat": 4,
  "nbformat_minor": 0,
  "metadata": {
    "colab": {
      "provenance": [],
      "authorship_tag": "ABX9TyMprPpt8tT50+SynwbvUacT",
      "include_colab_link": true
    },
    "kernelspec": {
      "name": "python3",
      "display_name": "Python 3"
    },
    "language_info": {
      "name": "python"
    }
  },
  "cells": [
    {
      "cell_type": "markdown",
      "metadata": {
        "id": "view-in-github",
        "colab_type": "text"
      },
      "source": [
        "<a href=\"https://colab.research.google.com/github/lekh-ch/Internshiptask3/blob/main/Untitled6.ipynb\" target=\"_parent\"><img src=\"https://colab.research.google.com/assets/colab-badge.svg\" alt=\"Open In Colab\"/></a>"
      ]
    },
    {
      "cell_type": "code",
      "execution_count": null,
      "metadata": {
        "colab": {
          "base_uri": "https://localhost:8080/"
        },
        "id": "__EeekuJwgBN",
        "outputId": "28760342-8738-4d6b-bf45-64c92658e2b9"
      },
      "outputs": [
        {
          "name": "stdout",
          "output_type": "stream",
          "text": [
            "\n",
            "Expense Tracker Menu:\n",
            "1. Add Expense\n",
            "2. View Expenses\n",
            "3. Get Monthly Summary\n",
            "4. Get Category Summary\n",
            "5. Exit\n",
            "Enter your choice: 1\n",
            "Enter amount: 100\n",
            "Enter category: Food\n",
            "Enter description: \"Lunch\"\n",
            "Enter month (e.g., January): January\n",
            "Expense added successfully!\n",
            "\n",
            "Expense Tracker Menu:\n",
            "1. Add Expense\n",
            "2. View Expenses\n",
            "3. Get Monthly Summary\n",
            "4. Get Category Summary\n",
            "5. Exit\n",
            "Enter your choice: 2\n",
            "Your Expenses:\n",
            "1. Amount: 100.0, Category: Food, Description: \"Lunch\", Month: January\n",
            "\n",
            "Expense Tracker Menu:\n",
            "1. Add Expense\n",
            "2. View Expenses\n",
            "3. Get Monthly Summary\n",
            "4. Get Category Summary\n",
            "5. Exit\n",
            "Enter your choice: 3\n"
          ]
        }
      ],
      "source": [
        "class ExpenseTracker:\n",
        "    def __init__(self):\n",
        "        self.expenses = []\n",
        "\n",
        "    def add_expense(self, amount, category, description, month):\n",
        "        \"\"\"Adds a new expense to the tracker.\"\"\"\n",
        "        self.expenses.append({\"amount\": amount, \"category\": category, \"description\": description, \"month\": month})\n",
        "        print(\"Expense added successfully!\")\n",
        "\n",
        "    def view_expenses(self):\n",
        "        \"\"\"Displays all recorded expenses.\"\"\"\n",
        "        if not self.expenses:\n",
        "            print(\"No expenses recorded yet.\")\n",
        "        else:\n",
        "            print(\"Your Expenses:\")\n",
        "            for i, expense in enumerate(self.expenses):\n",
        "                print(f\"{i+1}. Amount: {expense['amount']}, Category: {expense['category']}, \"\n",
        "                      f\"Description: {expense['description']}, Month: {expense['month']}\")\n",
        "\n",
        "    def get_monthly_summary(self, month):\n",
        "        \"\"\"Calculates the total expenses for a given month.\"\"\"\n",
        "        total_expenses = 0\n",
        "        for expense in self.expenses:\n",
        "            if expense.get('month') == month:\n",
        "                total_expenses += expense['amount']\n",
        "        return total_expenses\n",
        "\n",
        "    def get_category_summary(self, category):\n",
        "        \"\"\"Calculates the total expenses for a given category.\"\"\"\n",
        "        total_expenses = 0\n",
        "        for expense in self.expenses:\n",
        "            if expense['category'] == category:\n",
        "                total_expenses += expense['amount']\n",
        "        return total_expenses\n",
        "\n",
        "if __name__ == \"__main__\":\n",
        "    tracker = ExpenseTracker()\n",
        "\n",
        "    while True:\n",
        "        print(\"\\nExpense Tracker Menu:\")\n",
        "        print(\"1. Add Expense\")\n",
        "        print(\"2. View Expenses\")\n",
        "        print(\"3. Get Monthly Summary\")\n",
        "        print(\"4. Get Category Summary\")\n",
        "        print(\"5. Exit\")\n",
        "\n",
        "        choice = input(\"Enter your choice: \")\n",
        "\n",
        "        if choice == '1':\n",
        "            amount = float(input(\"Enter amount: \"))\n",
        "            category = input(\"Enter category: \")\n",
        "            description = input(\"Enter description: \")\n",
        "            month = input(\"Enter month (e.g., January): \")\n",
        "            tracker.add_expense(amount, category, description, month)\n",
        "\n",
        "        elif choice == '2':\n",
        "            tracker.view_expenses()\n",
        "\n",
        "        elif choice == '3':\n",
        "            month = input(\"Enter month for summary: \")\n",
        "            monthly_total = tracker.get_monthly_summary(month)\n",
        "            print(f\"Total expenses for {month}: {monthly_total}\")\n",
        "\n",
        "        elif choice == '4':\n",
        "            category = input(\"Enter category for summary: \")\n",
        "            category_total = tracker.get_category_summary(category)\n",
        "            print(f\"Total expenses for {category}: {category_total}\")\n",
        "\n",
        "        elif choice == '5':\n",
        "            print(\"Exiting...\")\n",
        "            break\n",
        "\n",
        "        else:\n",
        "            print(\"Invalid choice. Please try again.\")\n",
        "\n"
      ]
    }
  ]
}